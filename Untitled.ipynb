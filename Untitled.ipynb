{
 "cells": [
  {
   "cell_type": "code",
   "execution_count": 43,
   "metadata": {},
   "outputs": [],
   "source": [
    "import PyPDF2\n",
    "import re\n",
    "import pandas as pd"
   ]
  },
  {
   "cell_type": "code",
   "execution_count": 44,
   "metadata": {},
   "outputs": [],
   "source": [
    "pdf = open('sept18.pdf', 'rb')\n",
    "reader = PyPDF2.PdfFileReader(pdf)\n",
    "pages = reader.numPages"
   ]
  },
  {
   "cell_type": "code",
   "execution_count": 45,
   "metadata": {},
   "outputs": [],
   "source": [
    "first_page = reader.getPage(0)\n",
    "first_page_text = first_page.extractText()\n",
    "info = re.findall(r'\\b([\\w/.,#\\' ]*)\\n', first_page_text)"
   ]
  },
  {
   "cell_type": "code",
   "execution_count": 46,
   "metadata": {},
   "outputs": [],
   "source": [
    "# Remove the beginning data\n",
    "del info[:5]\n",
    "\n",
    "# Create a list for the column names\n",
    "x_axis = info[:7]\n",
    "\n",
    "# Remove column titles and trailing info\n",
    "del info[:7]\n",
    "del info[-3:]"
   ]
  },
  {
   "cell_type": "code",
   "execution_count": 47,
   "metadata": {},
   "outputs": [
    {
     "data": {
      "text/plain": [
       "169"
      ]
     },
     "execution_count": 47,
     "metadata": {},
     "output_type": "execute_result"
    }
   ],
   "source": [
    "# if len(info) % 7 != 0:\n",
    "#     # Pattern [Group Number, BIN, Program, Date, Utilization, Rate, Ammount]\n",
    "#     for i in info:\n",
    "#         print(re.match(r'([A-Z+\\d])*', i))\n",
    "len(info)"
   ]
  },
  {
   "cell_type": "code",
   "execution_count": null,
   "metadata": {},
   "outputs": [],
   "source": [
    "def check_vals(tmp):\n",
    "    if !re.match(r'^[A-Z\\d]*$', tmp[0]):\n",
    "        print(\"Error: Incorrect Group Number\")\n",
    "    if !re.match(r'^[A-Z\\d]*$', tmp[1]):\n",
    "        print(\"Error: Incorrect Bin Number\")"
   ]
  },
  {
   "cell_type": "code",
   "execution_count": 48,
   "metadata": {
    "scrolled": false
   },
   "outputs": [
    {
     "name": "stdout",
     "output_type": "stream",
     "text": [
      "84\n",
      "84\n",
      "84\n",
      "84\n",
      "84\n",
      "84\n",
      "84\n",
      "84\n",
      "84\n",
      "84\n",
      "84\n",
      "84\n",
      "84\n",
      "84\n",
      "84\n",
      "84\n",
      "84\n",
      "84\n",
      "84\n",
      "84\n",
      "84\n",
      "84\n",
      "84\n",
      "84\n"
     ]
    }
   ],
   "source": [
    "df = []\n",
    "for i in range(len(info)):\n",
    "    if i != 0 and i % 7 == 0:\n",
    "        if i == 7:\n",
    "            # Check the values of the data\n",
    "            tmp = {k : v for k, v in enumerate(info[:7])}\n",
    "            check_vals(tmp)\n",
    "                \n",
    "            df.append(info[:7])\n",
    "        else:\n",
    "            df.append(info[i-7:i])\n",
    "        \n",
    "        \n",
    "        "
   ]
  },
  {
   "cell_type": "code",
   "execution_count": 49,
   "metadata": {
    "scrolled": false
   },
   "outputs": [
    {
     "data": {
      "text/plain": [
       "[['BCCARD2', '610709', 'Birth Control Card', '9/18', '21', '0.50', '10.50'],\n",
       " ['BCCRD', '610709', 'Birth Control Card', '9/18', '4', '0.40', '1.60'],\n",
       " ['BCCRDC', '610709', 'Birth Control Card', '9/18', '78', '0.40', '31.20'],\n",
       " ['BCCRX', '610709', 'Birth Control Card', '9/18', '4', '0.40', '1.60'],\n",
       " ['BCCRXCP', '610709', 'Birth Control Card', '9/18', '142', '0.40', '56.80'],\n",
       " ['BCCRXCPLLF', '610709', 'Lo Loestrin Fe', '9/18', '17', '0.40', '6.80'],\n",
       " ['BCCRXCPNR', '610709', 'Nuvaring', '9/18', '8', '0.40', '3.20'],\n",
       " ['BCCRXCPOE', '610709', 'Ortho Evra', '9/18', '5', '0.40', '2.00'],\n",
       " ['BCCRXCPPB', '610709', 'Plan B', '9/18', '0', '0.40', '0.00'],\n",
       " ['BCCRXCPYZ', '610709', 'Yaz', '9/18', '7', '0.40', '2.80'],\n",
       " ['BCCRXHD', '610709', 'Birth Control Card', '9/18', '25', '0.40', '10.00'],\n",
       " ['CPNCTY', '013824', 'My City Rx', '9/18', '13', '0.50', '6.50'],\n",
       " ['CPNPHD', '013824', 'PharmaDiscounts', '9/18', '0', '0.50', '0.00'],\n",
       " ['FDCUSSAM', '610709', \"Sam's Club pharmacies\", '9/18', '0', '0.40', '0.00'],\n",
       " ['PETDRUGCARD', '610709', 'petdrugcard.com', '9/18', '115', '0.50', '57.50'],\n",
       " ['PETDRUGCPN', '610709', 'Pet Drug Card', '9/18', '1143', '0.50', '571.50'],\n",
       " ['PETDRUGCPN', '610280', 'PetDrugCard.com', '9/18', '2', '0.50', '1.00'],\n",
       " ['PETDRUGCRD', '610280', 'PetDrugCard.com', '9/18', '1', '0.50', '0.50'],\n",
       " ['PETDRUGCRD', '610709', 'Pet Drug Card', '9/18', '776', '0.50', '388.00'],\n",
       " ['PETDRUGHC2', '610709', 'Pet Drug Card', '9/18', '1', '0.40', '0.40'],\n",
       " ['PETDRUGHC3', '610709', 'Pet Drug Card', '9/18', '0', '0.50', '0.00'],\n",
       " ['PETDRUGHC4', '610709', 'Pet Drug Card', '9/18', '0', '0.50', '0.00'],\n",
       " ['RXADHD',\n",
       "  '610709',\n",
       "  'adhdsavings.com card ',\n",
       "  'downloader',\n",
       "  '9/18',\n",
       "  '2',\n",
       "  '0.60'],\n",
       " ['1.20',\n",
       "  'RXADHDC',\n",
       "  '610709',\n",
       "  'adhdsavings.com coupon pages',\n",
       "  '9/18',\n",
       "  '60',\n",
       "  '0.60']]"
      ]
     },
     "execution_count": 49,
     "metadata": {},
     "output_type": "execute_result"
    }
   ],
   "source": [
    "df"
   ]
  },
  {
   "cell_type": "code",
   "execution_count": null,
   "metadata": {},
   "outputs": [],
   "source": []
  }
 ],
 "metadata": {
  "kernelspec": {
   "display_name": "Python 3",
   "language": "python",
   "name": "python3"
  },
  "language_info": {
   "codemirror_mode": {
    "name": "ipython",
    "version": 3
   },
   "file_extension": ".py",
   "mimetype": "text/x-python",
   "name": "python",
   "nbconvert_exporter": "python",
   "pygments_lexer": "ipython3",
   "version": "3.7.1"
  }
 },
 "nbformat": 4,
 "nbformat_minor": 2
}
