{
 "cells": [
  {
   "cell_type": "code",
   "execution_count": 50,
   "metadata": {},
   "outputs": [],
   "source": [
    "import PyPDF2\n",
    "import re\n",
    "import pandas as pd"
   ]
  },
  {
   "cell_type": "code",
   "execution_count": 51,
   "metadata": {},
   "outputs": [],
   "source": [
    "pdf = open('sept18.pdf', 'rb')\n",
    "reader = PyPDF2.PdfFileReader(pdf)\n",
    "pages = reader.numPages"
   ]
  },
  {
   "cell_type": "code",
   "execution_count": 52,
   "metadata": {},
   "outputs": [],
   "source": [
    "first_page = reader.getPage(0)\n",
    "first_page_text = first_page.extractText()\n",
    "info = re.findall(r'\\b([\\w/.,#\\' ]*)\\n', first_page_text)"
   ]
  },
  {
   "cell_type": "code",
   "execution_count": 53,
   "metadata": {},
   "outputs": [],
   "source": [
    "# Remove the beginning data\n",
    "del info[:5]\n",
    "\n",
    "# Create a list for the column names\n",
    "x_axis = info[:7]\n",
    "\n",
    "# Remove column titles and trailing info\n",
    "del info[:7]\n",
    "del info[-3:]"
   ]
  },
  {
   "cell_type": "code",
   "execution_count": 61,
   "metadata": {},
   "outputs": [],
   "source": [
    "def check_vals(tmp):\n",
    "    # Pattern [Group Number, BIN, Program, Date, Utilization, Rate, Ammount]\n",
    "    if not re.match(r'^[A-Z\\d]*$', tmp[0]):\n",
    "        print(\"Error: Incorrect Group Number - {}\".format(tmp[0]))\n",
    "        return False\n",
    "        \n",
    "    if not re.match(r'^[0-9]*$', tmp[1]):\n",
    "        print(\"Error: Incorrect Bin Number - {}\".format(tmp[1]))\n",
    "        return False\n",
    "        \n",
    "    if not re.match(r'^[A-Za-z-.\\' ]*$', tmp[2]):\n",
    "        print(\"Error: Incorrect Program Name - {}\".format(tmp[2]))\n",
    "        return False\n",
    "    \n",
    "    if not re.match(r'([0-9]\\/[0-9])', tmp[3]):\n",
    "        print(\"Error: Incorrect Date - {}\".format(tmp[3]))\n",
    "        return False\n",
    "        \n",
    "    if not re.match(r'^[0-9]*$', tmp[4]):\n",
    "        print(\"Error: Incorrect Utilization Number - {}\".format(tmp[4]))\n",
    "        return False\n",
    "    \n",
    "    if not re.match(r'^(\\d{2}(,\\d{3})*|(\\d+))(\\.\\d{2})$', tmp[5]):\n",
    "        print(\"Error: Incorrect Rate Number - {}\".format(tmp[5]))\n",
    "        return False\n",
    "        \n",
    "    if not re.match(r'^(\\d{2}(,\\d{3})*|(\\d+))(\\.\\d{2})$', tmp[6]):\n",
    "        print(\"Error: Incorrect Payout Number - {}\".format(tmp[6]))\n",
    "        return False\n",
    "    return True"
   ]
  },
  {
   "cell_type": "code",
   "execution_count": 62,
   "metadata": {
    "scrolled": false
   },
   "outputs": [
    {
     "name": "stdout",
     "output_type": "stream",
     "text": [
      "Error: Incorrect Date - downloader\n"
     ]
    }
   ],
   "source": [
    "df = []\n",
    "for i in range(len(info)):\n",
    "    if i != 0 and i % 7 == 0:\n",
    "        if i == 7:\n",
    "            # Check the values of the data\n",
    "            tmp = info[:7]\n",
    "            if check_vals(tmp):\n",
    "                df.append(info[:7])\n",
    "            else:\n",
    "                break\n",
    "        else:\n",
    "            tmp = info[i-7:i]\n",
    "            if check_vals(tmp):\n",
    "                df.append(info[i-7:i])\n",
    "            else:\n",
    "                break  \n",
    "        \n",
    "        "
   ]
  },
  {
   "cell_type": "code",
   "execution_count": 63,
   "metadata": {
    "scrolled": false
   },
   "outputs": [
    {
     "data": {
      "text/plain": [
       "[['BCCARD2', '610709', 'Birth Control Card', '9/18', '21', '0.50', '10.50'],\n",
       " ['BCCRD', '610709', 'Birth Control Card', '9/18', '4', '0.40', '1.60'],\n",
       " ['BCCRDC', '610709', 'Birth Control Card', '9/18', '78', '0.40', '31.20'],\n",
       " ['BCCRX', '610709', 'Birth Control Card', '9/18', '4', '0.40', '1.60'],\n",
       " ['BCCRXCP', '610709', 'Birth Control Card', '9/18', '142', '0.40', '56.80'],\n",
       " ['BCCRXCPLLF', '610709', 'Lo Loestrin Fe', '9/18', '17', '0.40', '6.80'],\n",
       " ['BCCRXCPNR', '610709', 'Nuvaring', '9/18', '8', '0.40', '3.20'],\n",
       " ['BCCRXCPOE', '610709', 'Ortho Evra', '9/18', '5', '0.40', '2.00'],\n",
       " ['BCCRXCPPB', '610709', 'Plan B', '9/18', '0', '0.40', '0.00'],\n",
       " ['BCCRXCPYZ', '610709', 'Yaz', '9/18', '7', '0.40', '2.80'],\n",
       " ['BCCRXHD', '610709', 'Birth Control Card', '9/18', '25', '0.40', '10.00'],\n",
       " ['CPNCTY', '013824', 'My City Rx', '9/18', '13', '0.50', '6.50'],\n",
       " ['CPNPHD', '013824', 'PharmaDiscounts', '9/18', '0', '0.50', '0.00'],\n",
       " ['FDCUSSAM', '610709', \"Sam's Club pharmacies\", '9/18', '0', '0.40', '0.00'],\n",
       " ['PETDRUGCARD', '610709', 'petdrugcard.com', '9/18', '115', '0.50', '57.50'],\n",
       " ['PETDRUGCPN', '610709', 'Pet Drug Card', '9/18', '1143', '0.50', '571.50'],\n",
       " ['PETDRUGCPN', '610280', 'PetDrugCard.com', '9/18', '2', '0.50', '1.00'],\n",
       " ['PETDRUGCRD', '610280', 'PetDrugCard.com', '9/18', '1', '0.50', '0.50'],\n",
       " ['PETDRUGCRD', '610709', 'Pet Drug Card', '9/18', '776', '0.50', '388.00'],\n",
       " ['PETDRUGHC2', '610709', 'Pet Drug Card', '9/18', '1', '0.40', '0.40'],\n",
       " ['PETDRUGHC3', '610709', 'Pet Drug Card', '9/18', '0', '0.50', '0.00'],\n",
       " ['PETDRUGHC4', '610709', 'Pet Drug Card', '9/18', '0', '0.50', '0.00']]"
      ]
     },
     "execution_count": 63,
     "metadata": {},
     "output_type": "execute_result"
    }
   ],
   "source": [
    "df"
   ]
  },
  {
   "cell_type": "code",
   "execution_count": null,
   "metadata": {},
   "outputs": [],
   "source": []
  }
 ],
 "metadata": {
  "kernelspec": {
   "display_name": "Python 3",
   "language": "python",
   "name": "python3"
  },
  "language_info": {
   "codemirror_mode": {
    "name": "ipython",
    "version": 3
   },
   "file_extension": ".py",
   "mimetype": "text/x-python",
   "name": "python",
   "nbconvert_exporter": "python",
   "pygments_lexer": "ipython3",
   "version": "3.7.1"
  }
 },
 "nbformat": 4,
 "nbformat_minor": 2
}
